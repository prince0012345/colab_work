{
  "nbformat": 4,
  "nbformat_minor": 0,
  "metadata": {
    "colab": {
      "provenance": [],
      "authorship_tag": "ABX9TyNtt83kquNHIUMqcIVhEyXJ",
      "include_colab_link": true
    },
    "kernelspec": {
      "name": "python3",
      "display_name": "Python 3"
    },
    "language_info": {
      "name": "python"
    }
  },
  "cells": [
    {
      "cell_type": "markdown",
      "metadata": {
        "id": "view-in-github",
        "colab_type": "text"
      },
      "source": [
        "<a href=\"https://colab.research.google.com/github/prince0012345/colab_work/blob/main/Decision_tree.ipynb\" target=\"_parent\"><img src=\"https://colab.research.google.com/assets/colab-badge.svg\" alt=\"Open In Colab\"/></a>"
      ]
    },
    {
      "cell_type": "markdown",
      "source": [
        "Code for decision tree with the iris_dataset to check decision tree accuracy\n"
      ],
      "metadata": {
        "id": "Y1wma6WGbgNL"
      }
    },
    {
      "cell_type": "code",
      "source": [
        "from sklearn.tree import DecisionTreeClassifier\n",
        "from sklearn.model_selection import train_test_split\n",
        "from sklearn.datasets import load_iris\n",
        "from sklearn.tree import export_text"
      ],
      "metadata": {
        "id": "YFFdlQFEcDyf"
      },
      "execution_count": 7,
      "outputs": []
    },
    {
      "cell_type": "code",
      "source": [
        "iris = load_iris()\n",
        "x = iris.data    #features\n",
        "y = iris.target  #Target variable\n",
        "\n",
        "x_train,x_test,y_train,y_test = train_test_split(x,y,test_size=0.2,random_state=42)\n",
        "\n",
        "clf = DecisionTreeClassifier()\n",
        "\n",
        "clf.fit(x_train,y_train)\n",
        "\n",
        "y_pred = clf.predict(x_test)\n",
        "\n",
        "accuracy = clf.score(x_test,y_test)\n",
        "\n",
        "print(f\"Accuracy :{accuracy: .2f}\")\n",
        "\n",
        "tree_rules = export_text(clf , feature_names = iris.feature_names)\n",
        "print(\"Decision Tree Rules\")\n",
        "print(tree_rules)"
      ],
      "metadata": {
        "colab": {
          "base_uri": "https://localhost:8080/"
        },
        "id": "IdgiACmYfmwQ",
        "outputId": "03601cfe-9bd1-4b01-8bf0-07fdd9b956ef"
      },
      "execution_count": 8,
      "outputs": [
        {
          "output_type": "stream",
          "name": "stdout",
          "text": [
            "Accuracy : 1.00\n",
            "Decision Tree Rules\n",
            "|--- petal length (cm) <= 2.45\n",
            "|   |--- class: 0\n",
            "|--- petal length (cm) >  2.45\n",
            "|   |--- petal length (cm) <= 4.75\n",
            "|   |   |--- petal width (cm) <= 1.65\n",
            "|   |   |   |--- class: 1\n",
            "|   |   |--- petal width (cm) >  1.65\n",
            "|   |   |   |--- class: 2\n",
            "|   |--- petal length (cm) >  4.75\n",
            "|   |   |--- petal width (cm) <= 1.75\n",
            "|   |   |   |--- petal length (cm) <= 4.95\n",
            "|   |   |   |   |--- class: 1\n",
            "|   |   |   |--- petal length (cm) >  4.95\n",
            "|   |   |   |   |--- petal width (cm) <= 1.55\n",
            "|   |   |   |   |   |--- class: 2\n",
            "|   |   |   |   |--- petal width (cm) >  1.55\n",
            "|   |   |   |   |   |--- petal length (cm) <= 5.45\n",
            "|   |   |   |   |   |   |--- class: 1\n",
            "|   |   |   |   |   |--- petal length (cm) >  5.45\n",
            "|   |   |   |   |   |   |--- class: 2\n",
            "|   |   |--- petal width (cm) >  1.75\n",
            "|   |   |   |--- petal length (cm) <= 4.85\n",
            "|   |   |   |   |--- sepal length (cm) <= 5.95\n",
            "|   |   |   |   |   |--- class: 1\n",
            "|   |   |   |   |--- sepal length (cm) >  5.95\n",
            "|   |   |   |   |   |--- class: 2\n",
            "|   |   |   |--- petal length (cm) >  4.85\n",
            "|   |   |   |   |--- class: 2\n",
            "\n"
          ]
        }
      ]
    }
  ]
}